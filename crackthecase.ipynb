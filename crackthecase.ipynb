{
  "cells": [
    {
      "cell_type": "markdown",
      "metadata": {
        "id": "view-in-github",
        "colab_type": "text"
      },
      "source": [
        "<a href=\"https://colab.research.google.com/github/krVatsal/CSS-Battle-24/blob/main/crackthecase.ipynb\" target=\"_parent\"><img src=\"https://colab.research.google.com/assets/colab-badge.svg\" alt=\"Open In Colab\"/></a>"
      ]
    },
    {
      "cell_type": "code",
      "execution_count": 51,
      "metadata": {
        "id": "26kul5EssGBC"
      },
      "outputs": [],
      "source": [
        "import numpy as np\n",
        "import pandas as pd"
      ]
    },
    {
      "cell_type": "code",
      "execution_count": 52,
      "metadata": {
        "id": "QCc4-3CnsWHI"
      },
      "outputs": [],
      "source": [
        "df= pd.read_csv('/content/Coffee Shop Sales.xlsx - Transactions.csv')"
      ]
    },
    {
      "cell_type": "code",
      "execution_count": 53,
      "metadata": {
        "colab": {
          "base_uri": "https://localhost:8080/",
          "height": 600
        },
        "id": "C1TCL5o6s4gP",
        "outputId": "2e991e10-9930-41d5-c686-70d9a07c45c2"
      },
      "outputs": [
        {
          "output_type": "execute_result",
          "data": {
            "text/plain": [
              "        transaction_id transaction_date transaction_time  transaction_qty  \\\n",
              "0                    1         1/1/2023          7:06:11                2   \n",
              "1                    2         1/1/2023          7:08:56                2   \n",
              "2                    3         1/1/2023          7:14:04                2   \n",
              "3                    4         1/1/2023          7:20:24                1   \n",
              "4                    5         1/1/2023          7:22:41                2   \n",
              "...                ...              ...              ...              ...   \n",
              "149111          149452        6/30/2023         20:18:41                2   \n",
              "149112          149453        6/30/2023         20:25:10                2   \n",
              "149113          149454        6/30/2023         20:31:34                1   \n",
              "149114          149455        6/30/2023         20:57:19                1   \n",
              "149115          149456        6/30/2023         20:57:19                2   \n",
              "\n",
              "        store_id   store_location  product_id  unit_price    product_category  \\\n",
              "0              5  Lower Manhattan          32        3.00              Coffee   \n",
              "1              5  Lower Manhattan          57        3.10                 Tea   \n",
              "2              5  Lower Manhattan          59        4.50  Drinking Chocolate   \n",
              "3              5  Lower Manhattan          22        2.00              Coffee   \n",
              "4              5  Lower Manhattan          57        3.10                 Tea   \n",
              "...          ...              ...         ...         ...                 ...   \n",
              "149111         8   Hell's Kitchen          44        2.50                 Tea   \n",
              "149112         8   Hell's Kitchen          49        3.00                 Tea   \n",
              "149113         8   Hell's Kitchen          45        3.00                 Tea   \n",
              "149114         8   Hell's Kitchen          40        3.75              Coffee   \n",
              "149115         8   Hell's Kitchen          64        0.80            Flavours   \n",
              "\n",
              "                 product_type               product_detail  \n",
              "0       Gourmet brewed coffee                  Ethiopia Rg  \n",
              "1             Brewed Chai tea     Spicy Eye Opener Chai Lg  \n",
              "2               Hot chocolate            Dark chocolate Lg  \n",
              "3                 Drip coffee  Our Old Time Diner Blend Sm  \n",
              "4             Brewed Chai tea     Spicy Eye Opener Chai Lg  \n",
              "...                       ...                          ...  \n",
              "149111      Brewed herbal tea                Peppermint Rg  \n",
              "149112       Brewed Black tea         English Breakfast Lg  \n",
              "149113      Brewed herbal tea                Peppermint Lg  \n",
              "149114       Barista Espresso                   Cappuccino  \n",
              "149115          Regular syrup               Hazelnut syrup  \n",
              "\n",
              "[149116 rows x 11 columns]"
            ],
            "text/html": [
              "\n",
              "  <div id=\"df-69fafab4-8413-4ae0-b77c-b5c6b2322009\" class=\"colab-df-container\">\n",
              "    <div>\n",
              "<style scoped>\n",
              "    .dataframe tbody tr th:only-of-type {\n",
              "        vertical-align: middle;\n",
              "    }\n",
              "\n",
              "    .dataframe tbody tr th {\n",
              "        vertical-align: top;\n",
              "    }\n",
              "\n",
              "    .dataframe thead th {\n",
              "        text-align: right;\n",
              "    }\n",
              "</style>\n",
              "<table border=\"1\" class=\"dataframe\">\n",
              "  <thead>\n",
              "    <tr style=\"text-align: right;\">\n",
              "      <th></th>\n",
              "      <th>transaction_id</th>\n",
              "      <th>transaction_date</th>\n",
              "      <th>transaction_time</th>\n",
              "      <th>transaction_qty</th>\n",
              "      <th>store_id</th>\n",
              "      <th>store_location</th>\n",
              "      <th>product_id</th>\n",
              "      <th>unit_price</th>\n",
              "      <th>product_category</th>\n",
              "      <th>product_type</th>\n",
              "      <th>product_detail</th>\n",
              "    </tr>\n",
              "  </thead>\n",
              "  <tbody>\n",
              "    <tr>\n",
              "      <th>0</th>\n",
              "      <td>1</td>\n",
              "      <td>1/1/2023</td>\n",
              "      <td>7:06:11</td>\n",
              "      <td>2</td>\n",
              "      <td>5</td>\n",
              "      <td>Lower Manhattan</td>\n",
              "      <td>32</td>\n",
              "      <td>3.00</td>\n",
              "      <td>Coffee</td>\n",
              "      <td>Gourmet brewed coffee</td>\n",
              "      <td>Ethiopia Rg</td>\n",
              "    </tr>\n",
              "    <tr>\n",
              "      <th>1</th>\n",
              "      <td>2</td>\n",
              "      <td>1/1/2023</td>\n",
              "      <td>7:08:56</td>\n",
              "      <td>2</td>\n",
              "      <td>5</td>\n",
              "      <td>Lower Manhattan</td>\n",
              "      <td>57</td>\n",
              "      <td>3.10</td>\n",
              "      <td>Tea</td>\n",
              "      <td>Brewed Chai tea</td>\n",
              "      <td>Spicy Eye Opener Chai Lg</td>\n",
              "    </tr>\n",
              "    <tr>\n",
              "      <th>2</th>\n",
              "      <td>3</td>\n",
              "      <td>1/1/2023</td>\n",
              "      <td>7:14:04</td>\n",
              "      <td>2</td>\n",
              "      <td>5</td>\n",
              "      <td>Lower Manhattan</td>\n",
              "      <td>59</td>\n",
              "      <td>4.50</td>\n",
              "      <td>Drinking Chocolate</td>\n",
              "      <td>Hot chocolate</td>\n",
              "      <td>Dark chocolate Lg</td>\n",
              "    </tr>\n",
              "    <tr>\n",
              "      <th>3</th>\n",
              "      <td>4</td>\n",
              "      <td>1/1/2023</td>\n",
              "      <td>7:20:24</td>\n",
              "      <td>1</td>\n",
              "      <td>5</td>\n",
              "      <td>Lower Manhattan</td>\n",
              "      <td>22</td>\n",
              "      <td>2.00</td>\n",
              "      <td>Coffee</td>\n",
              "      <td>Drip coffee</td>\n",
              "      <td>Our Old Time Diner Blend Sm</td>\n",
              "    </tr>\n",
              "    <tr>\n",
              "      <th>4</th>\n",
              "      <td>5</td>\n",
              "      <td>1/1/2023</td>\n",
              "      <td>7:22:41</td>\n",
              "      <td>2</td>\n",
              "      <td>5</td>\n",
              "      <td>Lower Manhattan</td>\n",
              "      <td>57</td>\n",
              "      <td>3.10</td>\n",
              "      <td>Tea</td>\n",
              "      <td>Brewed Chai tea</td>\n",
              "      <td>Spicy Eye Opener Chai Lg</td>\n",
              "    </tr>\n",
              "    <tr>\n",
              "      <th>...</th>\n",
              "      <td>...</td>\n",
              "      <td>...</td>\n",
              "      <td>...</td>\n",
              "      <td>...</td>\n",
              "      <td>...</td>\n",
              "      <td>...</td>\n",
              "      <td>...</td>\n",
              "      <td>...</td>\n",
              "      <td>...</td>\n",
              "      <td>...</td>\n",
              "      <td>...</td>\n",
              "    </tr>\n",
              "    <tr>\n",
              "      <th>149111</th>\n",
              "      <td>149452</td>\n",
              "      <td>6/30/2023</td>\n",
              "      <td>20:18:41</td>\n",
              "      <td>2</td>\n",
              "      <td>8</td>\n",
              "      <td>Hell's Kitchen</td>\n",
              "      <td>44</td>\n",
              "      <td>2.50</td>\n",
              "      <td>Tea</td>\n",
              "      <td>Brewed herbal tea</td>\n",
              "      <td>Peppermint Rg</td>\n",
              "    </tr>\n",
              "    <tr>\n",
              "      <th>149112</th>\n",
              "      <td>149453</td>\n",
              "      <td>6/30/2023</td>\n",
              "      <td>20:25:10</td>\n",
              "      <td>2</td>\n",
              "      <td>8</td>\n",
              "      <td>Hell's Kitchen</td>\n",
              "      <td>49</td>\n",
              "      <td>3.00</td>\n",
              "      <td>Tea</td>\n",
              "      <td>Brewed Black tea</td>\n",
              "      <td>English Breakfast Lg</td>\n",
              "    </tr>\n",
              "    <tr>\n",
              "      <th>149113</th>\n",
              "      <td>149454</td>\n",
              "      <td>6/30/2023</td>\n",
              "      <td>20:31:34</td>\n",
              "      <td>1</td>\n",
              "      <td>8</td>\n",
              "      <td>Hell's Kitchen</td>\n",
              "      <td>45</td>\n",
              "      <td>3.00</td>\n",
              "      <td>Tea</td>\n",
              "      <td>Brewed herbal tea</td>\n",
              "      <td>Peppermint Lg</td>\n",
              "    </tr>\n",
              "    <tr>\n",
              "      <th>149114</th>\n",
              "      <td>149455</td>\n",
              "      <td>6/30/2023</td>\n",
              "      <td>20:57:19</td>\n",
              "      <td>1</td>\n",
              "      <td>8</td>\n",
              "      <td>Hell's Kitchen</td>\n",
              "      <td>40</td>\n",
              "      <td>3.75</td>\n",
              "      <td>Coffee</td>\n",
              "      <td>Barista Espresso</td>\n",
              "      <td>Cappuccino</td>\n",
              "    </tr>\n",
              "    <tr>\n",
              "      <th>149115</th>\n",
              "      <td>149456</td>\n",
              "      <td>6/30/2023</td>\n",
              "      <td>20:57:19</td>\n",
              "      <td>2</td>\n",
              "      <td>8</td>\n",
              "      <td>Hell's Kitchen</td>\n",
              "      <td>64</td>\n",
              "      <td>0.80</td>\n",
              "      <td>Flavours</td>\n",
              "      <td>Regular syrup</td>\n",
              "      <td>Hazelnut syrup</td>\n",
              "    </tr>\n",
              "  </tbody>\n",
              "</table>\n",
              "<p>149116 rows × 11 columns</p>\n",
              "</div>\n",
              "    <div class=\"colab-df-buttons\">\n",
              "\n",
              "  <div class=\"colab-df-container\">\n",
              "    <button class=\"colab-df-convert\" onclick=\"convertToInteractive('df-69fafab4-8413-4ae0-b77c-b5c6b2322009')\"\n",
              "            title=\"Convert this dataframe to an interactive table.\"\n",
              "            style=\"display:none;\">\n",
              "\n",
              "  <svg xmlns=\"http://www.w3.org/2000/svg\" height=\"24px\" viewBox=\"0 -960 960 960\">\n",
              "    <path d=\"M120-120v-720h720v720H120Zm60-500h600v-160H180v160Zm220 220h160v-160H400v160Zm0 220h160v-160H400v160ZM180-400h160v-160H180v160Zm440 0h160v-160H620v160ZM180-180h160v-160H180v160Zm440 0h160v-160H620v160Z\"/>\n",
              "  </svg>\n",
              "    </button>\n",
              "\n",
              "  <style>\n",
              "    .colab-df-container {\n",
              "      display:flex;\n",
              "      gap: 12px;\n",
              "    }\n",
              "\n",
              "    .colab-df-convert {\n",
              "      background-color: #E8F0FE;\n",
              "      border: none;\n",
              "      border-radius: 50%;\n",
              "      cursor: pointer;\n",
              "      display: none;\n",
              "      fill: #1967D2;\n",
              "      height: 32px;\n",
              "      padding: 0 0 0 0;\n",
              "      width: 32px;\n",
              "    }\n",
              "\n",
              "    .colab-df-convert:hover {\n",
              "      background-color: #E2EBFA;\n",
              "      box-shadow: 0px 1px 2px rgba(60, 64, 67, 0.3), 0px 1px 3px 1px rgba(60, 64, 67, 0.15);\n",
              "      fill: #174EA6;\n",
              "    }\n",
              "\n",
              "    .colab-df-buttons div {\n",
              "      margin-bottom: 4px;\n",
              "    }\n",
              "\n",
              "    [theme=dark] .colab-df-convert {\n",
              "      background-color: #3B4455;\n",
              "      fill: #D2E3FC;\n",
              "    }\n",
              "\n",
              "    [theme=dark] .colab-df-convert:hover {\n",
              "      background-color: #434B5C;\n",
              "      box-shadow: 0px 1px 3px 1px rgba(0, 0, 0, 0.15);\n",
              "      filter: drop-shadow(0px 1px 2px rgba(0, 0, 0, 0.3));\n",
              "      fill: #FFFFFF;\n",
              "    }\n",
              "  </style>\n",
              "\n",
              "    <script>\n",
              "      const buttonEl =\n",
              "        document.querySelector('#df-69fafab4-8413-4ae0-b77c-b5c6b2322009 button.colab-df-convert');\n",
              "      buttonEl.style.display =\n",
              "        google.colab.kernel.accessAllowed ? 'block' : 'none';\n",
              "\n",
              "      async function convertToInteractive(key) {\n",
              "        const element = document.querySelector('#df-69fafab4-8413-4ae0-b77c-b5c6b2322009');\n",
              "        const dataTable =\n",
              "          await google.colab.kernel.invokeFunction('convertToInteractive',\n",
              "                                                    [key], {});\n",
              "        if (!dataTable) return;\n",
              "\n",
              "        const docLinkHtml = 'Like what you see? Visit the ' +\n",
              "          '<a target=\"_blank\" href=https://colab.research.google.com/notebooks/data_table.ipynb>data table notebook</a>'\n",
              "          + ' to learn more about interactive tables.';\n",
              "        element.innerHTML = '';\n",
              "        dataTable['output_type'] = 'display_data';\n",
              "        await google.colab.output.renderOutput(dataTable, element);\n",
              "        const docLink = document.createElement('div');\n",
              "        docLink.innerHTML = docLinkHtml;\n",
              "        element.appendChild(docLink);\n",
              "      }\n",
              "    </script>\n",
              "  </div>\n",
              "\n",
              "\n",
              "<div id=\"df-14d462aa-9e91-4ca0-8fc3-f8ad9ce55c15\">\n",
              "  <button class=\"colab-df-quickchart\" onclick=\"quickchart('df-14d462aa-9e91-4ca0-8fc3-f8ad9ce55c15')\"\n",
              "            title=\"Suggest charts\"\n",
              "            style=\"display:none;\">\n",
              "\n",
              "<svg xmlns=\"http://www.w3.org/2000/svg\" height=\"24px\"viewBox=\"0 0 24 24\"\n",
              "     width=\"24px\">\n",
              "    <g>\n",
              "        <path d=\"M19 3H5c-1.1 0-2 .9-2 2v14c0 1.1.9 2 2 2h14c1.1 0 2-.9 2-2V5c0-1.1-.9-2-2-2zM9 17H7v-7h2v7zm4 0h-2V7h2v10zm4 0h-2v-4h2v4z\"/>\n",
              "    </g>\n",
              "</svg>\n",
              "  </button>\n",
              "\n",
              "<style>\n",
              "  .colab-df-quickchart {\n",
              "      --bg-color: #E8F0FE;\n",
              "      --fill-color: #1967D2;\n",
              "      --hover-bg-color: #E2EBFA;\n",
              "      --hover-fill-color: #174EA6;\n",
              "      --disabled-fill-color: #AAA;\n",
              "      --disabled-bg-color: #DDD;\n",
              "  }\n",
              "\n",
              "  [theme=dark] .colab-df-quickchart {\n",
              "      --bg-color: #3B4455;\n",
              "      --fill-color: #D2E3FC;\n",
              "      --hover-bg-color: #434B5C;\n",
              "      --hover-fill-color: #FFFFFF;\n",
              "      --disabled-bg-color: #3B4455;\n",
              "      --disabled-fill-color: #666;\n",
              "  }\n",
              "\n",
              "  .colab-df-quickchart {\n",
              "    background-color: var(--bg-color);\n",
              "    border: none;\n",
              "    border-radius: 50%;\n",
              "    cursor: pointer;\n",
              "    display: none;\n",
              "    fill: var(--fill-color);\n",
              "    height: 32px;\n",
              "    padding: 0;\n",
              "    width: 32px;\n",
              "  }\n",
              "\n",
              "  .colab-df-quickchart:hover {\n",
              "    background-color: var(--hover-bg-color);\n",
              "    box-shadow: 0 1px 2px rgba(60, 64, 67, 0.3), 0 1px 3px 1px rgba(60, 64, 67, 0.15);\n",
              "    fill: var(--button-hover-fill-color);\n",
              "  }\n",
              "\n",
              "  .colab-df-quickchart-complete:disabled,\n",
              "  .colab-df-quickchart-complete:disabled:hover {\n",
              "    background-color: var(--disabled-bg-color);\n",
              "    fill: var(--disabled-fill-color);\n",
              "    box-shadow: none;\n",
              "  }\n",
              "\n",
              "  .colab-df-spinner {\n",
              "    border: 2px solid var(--fill-color);\n",
              "    border-color: transparent;\n",
              "    border-bottom-color: var(--fill-color);\n",
              "    animation:\n",
              "      spin 1s steps(1) infinite;\n",
              "  }\n",
              "\n",
              "  @keyframes spin {\n",
              "    0% {\n",
              "      border-color: transparent;\n",
              "      border-bottom-color: var(--fill-color);\n",
              "      border-left-color: var(--fill-color);\n",
              "    }\n",
              "    20% {\n",
              "      border-color: transparent;\n",
              "      border-left-color: var(--fill-color);\n",
              "      border-top-color: var(--fill-color);\n",
              "    }\n",
              "    30% {\n",
              "      border-color: transparent;\n",
              "      border-left-color: var(--fill-color);\n",
              "      border-top-color: var(--fill-color);\n",
              "      border-right-color: var(--fill-color);\n",
              "    }\n",
              "    40% {\n",
              "      border-color: transparent;\n",
              "      border-right-color: var(--fill-color);\n",
              "      border-top-color: var(--fill-color);\n",
              "    }\n",
              "    60% {\n",
              "      border-color: transparent;\n",
              "      border-right-color: var(--fill-color);\n",
              "    }\n",
              "    80% {\n",
              "      border-color: transparent;\n",
              "      border-right-color: var(--fill-color);\n",
              "      border-bottom-color: var(--fill-color);\n",
              "    }\n",
              "    90% {\n",
              "      border-color: transparent;\n",
              "      border-bottom-color: var(--fill-color);\n",
              "    }\n",
              "  }\n",
              "</style>\n",
              "\n",
              "  <script>\n",
              "    async function quickchart(key) {\n",
              "      const quickchartButtonEl =\n",
              "        document.querySelector('#' + key + ' button');\n",
              "      quickchartButtonEl.disabled = true;  // To prevent multiple clicks.\n",
              "      quickchartButtonEl.classList.add('colab-df-spinner');\n",
              "      try {\n",
              "        const charts = await google.colab.kernel.invokeFunction(\n",
              "            'suggestCharts', [key], {});\n",
              "      } catch (error) {\n",
              "        console.error('Error during call to suggestCharts:', error);\n",
              "      }\n",
              "      quickchartButtonEl.classList.remove('colab-df-spinner');\n",
              "      quickchartButtonEl.classList.add('colab-df-quickchart-complete');\n",
              "    }\n",
              "    (() => {\n",
              "      let quickchartButtonEl =\n",
              "        document.querySelector('#df-14d462aa-9e91-4ca0-8fc3-f8ad9ce55c15 button');\n",
              "      quickchartButtonEl.style.display =\n",
              "        google.colab.kernel.accessAllowed ? 'block' : 'none';\n",
              "    })();\n",
              "  </script>\n",
              "</div>\n",
              "\n",
              "  <div id=\"id_c56dfaf7-3264-4abf-8c17-b64be9007d5e\">\n",
              "    <style>\n",
              "      .colab-df-generate {\n",
              "        background-color: #E8F0FE;\n",
              "        border: none;\n",
              "        border-radius: 50%;\n",
              "        cursor: pointer;\n",
              "        display: none;\n",
              "        fill: #1967D2;\n",
              "        height: 32px;\n",
              "        padding: 0 0 0 0;\n",
              "        width: 32px;\n",
              "      }\n",
              "\n",
              "      .colab-df-generate:hover {\n",
              "        background-color: #E2EBFA;\n",
              "        box-shadow: 0px 1px 2px rgba(60, 64, 67, 0.3), 0px 1px 3px 1px rgba(60, 64, 67, 0.15);\n",
              "        fill: #174EA6;\n",
              "      }\n",
              "\n",
              "      [theme=dark] .colab-df-generate {\n",
              "        background-color: #3B4455;\n",
              "        fill: #D2E3FC;\n",
              "      }\n",
              "\n",
              "      [theme=dark] .colab-df-generate:hover {\n",
              "        background-color: #434B5C;\n",
              "        box-shadow: 0px 1px 3px 1px rgba(0, 0, 0, 0.15);\n",
              "        filter: drop-shadow(0px 1px 2px rgba(0, 0, 0, 0.3));\n",
              "        fill: #FFFFFF;\n",
              "      }\n",
              "    </style>\n",
              "    <button class=\"colab-df-generate\" onclick=\"generateWithVariable('df')\"\n",
              "            title=\"Generate code using this dataframe.\"\n",
              "            style=\"display:none;\">\n",
              "\n",
              "  <svg xmlns=\"http://www.w3.org/2000/svg\" height=\"24px\"viewBox=\"0 0 24 24\"\n",
              "       width=\"24px\">\n",
              "    <path d=\"M7,19H8.4L18.45,9,17,7.55,7,17.6ZM5,21V16.75L18.45,3.32a2,2,0,0,1,2.83,0l1.4,1.43a1.91,1.91,0,0,1,.58,1.4,1.91,1.91,0,0,1-.58,1.4L9.25,21ZM18.45,9,17,7.55Zm-12,3A5.31,5.31,0,0,0,4.9,8.1,5.31,5.31,0,0,0,1,6.5,5.31,5.31,0,0,0,4.9,4.9,5.31,5.31,0,0,0,6.5,1,5.31,5.31,0,0,0,8.1,4.9,5.31,5.31,0,0,0,12,6.5,5.46,5.46,0,0,0,6.5,12Z\"/>\n",
              "  </svg>\n",
              "    </button>\n",
              "    <script>\n",
              "      (() => {\n",
              "      const buttonEl =\n",
              "        document.querySelector('#id_c56dfaf7-3264-4abf-8c17-b64be9007d5e button.colab-df-generate');\n",
              "      buttonEl.style.display =\n",
              "        google.colab.kernel.accessAllowed ? 'block' : 'none';\n",
              "\n",
              "      buttonEl.onclick = () => {\n",
              "        google.colab.notebook.generateWithVariable('df');\n",
              "      }\n",
              "      })();\n",
              "    </script>\n",
              "  </div>\n",
              "\n",
              "    </div>\n",
              "  </div>\n"
            ],
            "application/vnd.google.colaboratory.intrinsic+json": {
              "type": "dataframe",
              "variable_name": "df"
            }
          },
          "metadata": {},
          "execution_count": 53
        }
      ],
      "source": [
        "df\n"
      ]
    },
    {
      "cell_type": "code",
      "execution_count": 54,
      "metadata": {
        "colab": {
          "base_uri": "https://localhost:8080/"
        },
        "id": "Z6shQkuGt3oO",
        "outputId": "4595d5da-1ced-4386-ccc2-b68740d13a15"
      },
      "outputs": [
        {
          "output_type": "stream",
          "name": "stdout",
          "text": [
            "<class 'pandas.core.frame.DataFrame'>\n",
            "RangeIndex: 149116 entries, 0 to 149115\n",
            "Data columns (total 11 columns):\n",
            " #   Column            Non-Null Count   Dtype  \n",
            "---  ------            --------------   -----  \n",
            " 0   transaction_id    149116 non-null  int64  \n",
            " 1   transaction_date  149116 non-null  object \n",
            " 2   transaction_time  149116 non-null  object \n",
            " 3   transaction_qty   149116 non-null  int64  \n",
            " 4   store_id          149116 non-null  int64  \n",
            " 5   store_location    149116 non-null  object \n",
            " 6   product_id        149116 non-null  int64  \n",
            " 7   unit_price        149116 non-null  float64\n",
            " 8   product_category  149116 non-null  object \n",
            " 9   product_type      149116 non-null  object \n",
            " 10  product_detail    149116 non-null  object \n",
            "dtypes: float64(1), int64(4), object(6)\n",
            "memory usage: 12.5+ MB\n"
          ]
        }
      ],
      "source": [
        "df.info()"
      ]
    },
    {
      "cell_type": "code",
      "source": [
        "import matplotlib.pyplot as plt"
      ],
      "metadata": {
        "id": "HaLyb6cdfEkn"
      },
      "execution_count": 55,
      "outputs": []
    },
    {
      "cell_type": "code",
      "source": [],
      "metadata": {
        "id": "3mJacdEtgK3A"
      },
      "execution_count": 55,
      "outputs": []
    },
    {
      "cell_type": "code",
      "execution_count": 56,
      "metadata": {
        "id": "K7jWyQD5vepL"
      },
      "outputs": [],
      "source": [
        "df=df.iloc[:, 1:]"
      ]
    },
    {
      "cell_type": "code",
      "execution_count": 57,
      "metadata": {
        "id": "fHkWzC64x1AY",
        "colab": {
          "base_uri": "https://localhost:8080/"
        },
        "outputId": "4c97f8e2-3b77-4a5f-ebf4-518124546402"
      },
      "outputs": [
        {
          "output_type": "stream",
          "name": "stdout",
          "text": [
            "Unique products sold: 80\n"
          ]
        }
      ],
      "source": [
        "unique_products = df['product_id'].nunique()\n",
        "print(\"Unique products sold:\", unique_products)"
      ]
    },
    {
      "cell_type": "code",
      "source": [
        "total_quantity_per_category = df.groupby('product_category')['transaction_qty'].sum()\n",
        "print(\"Total quantity per product category:\\n\", total_quantity_per_category)\n"
      ],
      "metadata": {
        "colab": {
          "base_uri": "https://localhost:8080/"
        },
        "id": "MygK3Sbhe5qQ",
        "outputId": "50122cc9-d8c0-47a6-8352-f0a313eeb49b"
      },
      "execution_count": 58,
      "outputs": [
        {
          "output_type": "stream",
          "name": "stdout",
          "text": [
            "Total quantity per product category:\n",
            " product_category\n",
            "Bakery                23214\n",
            "Branded                 776\n",
            "Coffee                89250\n",
            "Coffee beans           1828\n",
            "Drinking Chocolate    17457\n",
            "Flavours              10511\n",
            "Loose Tea              1210\n",
            "Packaged Chocolate      487\n",
            "Tea                   69737\n",
            "Name: transaction_qty, dtype: int64\n"
          ]
        }
      ]
    },
    {
      "cell_type": "code",
      "source": [
        "total_quantity_per_category = df.groupby('product_category')['transaction_qty'].sum()\n",
        "print(\"Total quantity per product category:\\n\", total_quantity_per_category)\n"
      ],
      "metadata": {
        "colab": {
          "base_uri": "https://localhost:8080/"
        },
        "id": "BmxTTHEKfTXk",
        "outputId": "65d1f0e0-dd82-4313-c38e-4478a28c1761"
      },
      "execution_count": 59,
      "outputs": [
        {
          "output_type": "stream",
          "name": "stdout",
          "text": [
            "Total quantity per product category:\n",
            " product_category\n",
            "Bakery                23214\n",
            "Branded                 776\n",
            "Coffee                89250\n",
            "Coffee beans           1828\n",
            "Drinking Chocolate    17457\n",
            "Flavours              10511\n",
            "Loose Tea              1210\n",
            "Packaged Chocolate      487\n",
            "Tea                   69737\n",
            "Name: transaction_qty, dtype: int64\n"
          ]
        }
      ]
    },
    {
      "cell_type": "code",
      "source": [
        "top_stores = df['store_location'].value_counts().head(3)\n",
        "print(\"Top 3 stores with highest transactions:\\n\", top_stores)\n"
      ],
      "metadata": {
        "colab": {
          "base_uri": "https://localhost:8080/"
        },
        "id": "ZWM7Dvf-fYmC",
        "outputId": "21bad525-08d0-4516-fd35-6f084852763c"
      },
      "execution_count": 60,
      "outputs": [
        {
          "output_type": "stream",
          "name": "stdout",
          "text": [
            "Top 3 stores with highest transactions:\n",
            " store_location\n",
            "Hell's Kitchen     50735\n",
            "Astoria            50599\n",
            "Lower Manhattan    47782\n",
            "Name: count, dtype: int64\n"
          ]
        }
      ]
    },
    {
      "cell_type": "code",
      "source": [
        "avg_price_per_category = df.groupby('product_category')['unit_price'].mean()\n",
        "print(\"Average unit price per category:\\n\", avg_price_per_category)\n"
      ],
      "metadata": {
        "colab": {
          "base_uri": "https://localhost:8080/"
        },
        "id": "I9683XDxfZ8J",
        "outputId": "ac54b610-e910-423f-8a66-0fe29c06aaab"
      },
      "execution_count": 61,
      "outputs": [
        {
          "output_type": "stream",
          "name": "stdout",
          "text": [
            "Average unit price per category:\n",
            " product_category\n",
            "Bakery                 3.551682\n",
            "Branded               17.720214\n",
            "Coffee                 3.023646\n",
            "Coffee beans          21.018397\n",
            "Drinking Chocolate     4.148827\n",
            "Flavours               0.800000\n",
            "Loose Tea              9.267438\n",
            "Packaged Chocolate     9.050595\n",
            "Tea                    2.817121\n",
            "Name: unit_price, dtype: float64\n"
          ]
        }
      ]
    },
    {
      "cell_type": "code",
      "source": [
        "most_common_product_type = df['product_type'].mode()[0]\n",
        "print(\"Most common product type:\", most_common_product_type)\n"
      ],
      "metadata": {
        "colab": {
          "base_uri": "https://localhost:8080/"
        },
        "id": "-2xCBQ3rfbsq",
        "outputId": "5bb3afdd-7d8c-4410-e4cd-cbaeda68ccb6"
      },
      "execution_count": 62,
      "outputs": [
        {
          "output_type": "stream",
          "name": "stdout",
          "text": [
            "Most common product type: Brewed Chai tea\n"
          ]
        }
      ]
    },
    {
      "cell_type": "code",
      "source": [
        "df['total_sales'] = df['transaction_qty'] * df['unit_price']\n",
        "total_sales_per_location = df.groupby('store_location')['total_sales'].sum()\n",
        "print(\"Total sales per store location:\\n\", total_sales_per_location)\n"
      ],
      "metadata": {
        "colab": {
          "base_uri": "https://localhost:8080/"
        },
        "id": "bk9jMzgUfdqE",
        "outputId": "c586cb78-01ef-4f72-d47c-341d63504101"
      },
      "execution_count": 63,
      "outputs": [
        {
          "output_type": "stream",
          "name": "stdout",
          "text": [
            "Total sales per store location:\n",
            " store_location\n",
            "Astoria            232243.91\n",
            "Hell's Kitchen     236511.17\n",
            "Lower Manhattan    230057.25\n",
            "Name: total_sales, dtype: float64\n"
          ]
        }
      ]
    },
    {
      "cell_type": "code",
      "source": [
        "df['day_of_week'] = pd.to_datetime(df['transaction_date']).dt.day_name()\n",
        "avg_transaction_qty_per_day = df.groupby('day_of_week')['transaction_qty'].mean()\n",
        "print(\"Average transaction quantity per day:\\n\", avg_transaction_qty_per_day)\n"
      ],
      "metadata": {
        "colab": {
          "base_uri": "https://localhost:8080/"
        },
        "id": "YWxcMG4dfe15",
        "outputId": "fb3fd052-9d8b-4f34-ae65-5e3f59755ab3"
      },
      "execution_count": 64,
      "outputs": [
        {
          "output_type": "stream",
          "name": "stdout",
          "text": [
            "Average transaction quantity per day:\n",
            " day_of_week\n",
            "Friday       1.438044\n",
            "Monday       1.443007\n",
            "Saturday     1.443881\n",
            "Sunday       1.430698\n",
            "Thursday     1.439087\n",
            "Tuesday      1.436138\n",
            "Wednesday    1.437119\n",
            "Name: transaction_qty, dtype: float64\n"
          ]
        }
      ]
    },
    {
      "cell_type": "code",
      "source": [
        "total_revenue_per_product = df.groupby('product_detail')['total_sales'].sum()\n",
        "top_revenue_product = total_revenue_per_product.idxmax()\n",
        "print(\"Product with highest total revenue:\", top_revenue_product)\n"
      ],
      "metadata": {
        "colab": {
          "base_uri": "https://localhost:8080/"
        },
        "id": "n4BONjyWfgm5",
        "outputId": "81a91498-1a30-4965-fb12-2643851ff15e"
      },
      "execution_count": 65,
      "outputs": [
        {
          "output_type": "stream",
          "name": "stdout",
          "text": [
            "Product with highest total revenue: Sustainably Grown Organic Lg\n"
          ]
        }
      ]
    },
    {
      "cell_type": "code",
      "source": [
        "avg_transaction_per_location = df.groupby('store_location')['total_sales'].mean()\n",
        "top_avg_transaction_location = avg_transaction_per_location.idxmax()\n",
        "print(\"Store with highest avg transaction amount:\", top_avg_transaction_location)\n"
      ],
      "metadata": {
        "colab": {
          "base_uri": "https://localhost:8080/"
        },
        "id": "Y9jxhp9tfiod",
        "outputId": "657d09af-8bad-4858-ed43-3a033c27831b"
      },
      "execution_count": 66,
      "outputs": [
        {
          "output_type": "stream",
          "name": "stdout",
          "text": [
            "Store with highest avg transaction amount: Lower Manhattan\n"
          ]
        }
      ]
    },
    {
      "cell_type": "code",
      "source": [
        "df['month'] = pd.to_datetime(df['transaction_date']).dt.month\n",
        "monthly_sales = df.groupby('month')['total_sales'].sum()\n",
        "print(\"Total sales per month:\\n\", monthly_sales)\n"
      ],
      "metadata": {
        "colab": {
          "base_uri": "https://localhost:8080/"
        },
        "id": "Jfz9eGLZfk05",
        "outputId": "b78488ce-ba96-4b9f-8e77-faf40b736c80"
      },
      "execution_count": 67,
      "outputs": [
        {
          "output_type": "stream",
          "name": "stdout",
          "text": [
            "Total sales per month:\n",
            " month\n",
            "1     81677.74\n",
            "2     76145.19\n",
            "3     98834.68\n",
            "4    118941.08\n",
            "5    156727.76\n",
            "6    166485.88\n",
            "Name: total_sales, dtype: float64\n"
          ]
        }
      ]
    },
    {
      "cell_type": "code",
      "source": [
        "df['hour'] = pd.to_datetime(df['transaction_time']).dt.hour\n",
        "peak_hours_per_category = df.groupby(['product_category', 'hour'])['total_sales'].sum().reset_index()\n",
        "peak_hours = peak_hours_per_category.loc[peak_hours_per_category.groupby('product_category')['total_sales'].idxmax()]\n",
        "print(\"Peak sales hours per category:\\n\", peak_hours)\n"
      ],
      "metadata": {
        "colab": {
          "base_uri": "https://localhost:8080/"
        },
        "id": "N8U15b1qfmCc",
        "outputId": "d425f3c7-b96b-4d02-c4a9-7eedac0fb4c1"
      },
      "execution_count": 68,
      "outputs": [
        {
          "output_type": "stream",
          "name": "stderr",
          "text": [
            "<ipython-input-68-7bc319418a31>:1: UserWarning: Could not infer format, so each element will be parsed individually, falling back to `dateutil`. To ensure parsing is consistent and as-expected, please specify a format.\n",
            "  df['hour'] = pd.to_datetime(df['transaction_time']).dt.hour\n"
          ]
        },
        {
          "output_type": "stream",
          "name": "stdout",
          "text": [
            "Peak sales hours per category:\n",
            "        product_category  hour  total_sales\n",
            "4                Bakery    10     10982.50\n",
            "17              Branded     8      2098.00\n",
            "34               Coffee    10     33297.10\n",
            "49         Coffee beans    10      7608.70\n",
            "62   Drinking Chocolate     8      8166.00\n",
            "79             Flavours    10      1532.80\n",
            "93            Loose Tea     9      2072.15\n",
            "109  Packaged Chocolate    10       799.79\n",
            "124                 Tea    10     23028.55\n"
          ]
        }
      ]
    },
    {
      "cell_type": "code",
      "source": [
        "revenue_per_category = df.groupby('product_category')['total_sales'].sum()\n",
        "top_revenue_category = revenue_per_category.idxmax()\n",
        "print(\"Category with highest revenue:\", top_revenue_category)\n"
      ],
      "metadata": {
        "colab": {
          "base_uri": "https://localhost:8080/"
        },
        "id": "8c5Qmc_7fof8",
        "outputId": "d6fd0635-6d4b-4574-8b63-3feda0d1eb4a"
      },
      "execution_count": 69,
      "outputs": [
        {
          "output_type": "stream",
          "name": "stdout",
          "text": [
            "Category with highest revenue: Coffee\n"
          ]
        }
      ]
    },
    {
      "cell_type": "code",
      "source": [
        "correlation = df['transaction_qty'].corr(df['unit_price'])\n",
        "print(\"Correlation between transaction quantity and unit price:\", correlation)\n"
      ],
      "metadata": {
        "colab": {
          "base_uri": "https://localhost:8080/"
        },
        "id": "h_jvAjyIfphV",
        "outputId": "ee14dd87-812b-4f0f-caac-6fb731fd89a6"
      },
      "execution_count": 70,
      "outputs": [
        {
          "output_type": "stream",
          "name": "stdout",
          "text": [
            "Correlation between transaction quantity and unit price: -0.12354566015198779\n"
          ]
        }
      ]
    },
    {
      "cell_type": "code",
      "source": [
        "plt.scatter(df['transaction_qty'], df['unit_price'])\n",
        "plt.xlabel('Transaction Quantity')\n",
        "plt.ylabel('Unit Price')\n",
        "plt.title('Scatter Plot of Transaction Quantity vs Unit Price')\n",
        "plt.show()\n"
      ],
      "metadata": {
        "colab": {
          "base_uri": "https://localhost:8080/",
          "height": 492
        },
        "id": "aAdwX7TwgUYi",
        "outputId": "34d00486-3d1f-4949-919a-4f47af699119"
      },
      "execution_count": 71,
      "outputs": [
        {
          "output_type": "display_data",
          "data": {
            "text/plain": [
              "<Figure size 640x480 with 1 Axes>"
            ],
            "image/png": "[encoded data removed]"
          },
          "metadata": {}
        }
      ]
    },
    {
      "cell_type": "code",
      "source": [
        "top_5_revenue_products = df.groupby('product_detail')['total_sales'].sum().nlargest(5).index\n",
        "avg_qty_top_products = df[df['product_detail'].isin(top_5_revenue_products)].groupby('product_detail')['transaction_qty'].mean()\n",
        "print(\"Top 5 products by revenue and their avg transaction quantity:\\n\", avg_qty_top_products)\n"
      ],
      "metadata": {
        "colab": {
          "base_uri": "https://localhost:8080/"
        },
        "id": "FzrebJzEfsMU",
        "outputId": "ff8d5545-abc0-434f-e07a-91fa278bd145"
      },
      "execution_count": 72,
      "outputs": [
        {
          "output_type": "stream",
          "name": "stdout",
          "text": [
            "Top 5 products by revenue and their avg transaction quantity:\n",
            " product_detail\n",
            "Cappuccino Lg                   1.497475\n",
            "Dark chocolate Lg               1.541103\n",
            "Latte Rg                        1.552831\n",
            "Morning Sunrise Chai Lg         1.535689\n",
            "Sustainably Grown Organic Lg    1.503884\n",
            "Name: transaction_qty, dtype: float64\n"
          ]
        }
      ]
    },
    {
      "cell_type": "code",
      "source": [
        "avg_revenue_per_transaction = df.groupby('store_location')['total_sales'].mean()\n",
        "print(\"Average revenue per transaction by store location:\\n\", avg_revenue_per_transaction)\n"
      ],
      "metadata": {
        "colab": {
          "base_uri": "https://localhost:8080/"
        },
        "id": "C1Os3C1cfs0g",
        "outputId": "9f6312dd-8ed8-4b6b-bb8c-a796d10ed873"
      },
      "execution_count": 73,
      "outputs": [
        {
          "output_type": "stream",
          "name": "stdout",
          "text": [
            "Average revenue per transaction by store location:\n",
            " store_location\n",
            "Astoria            4.589891\n",
            "Hell's Kitchen     4.661696\n",
            "Lower Manhattan    4.814726\n",
            "Name: total_sales, dtype: float64\n"
          ]
        }
      ]
    },
    {
      "cell_type": "code",
      "source": [
        "plt.scatter(df['store_location'], df['total_sales'])\n",
        "plt.xlabel('Store Location')\n",
        "plt.ylabel('Total Sales')\n",
        "plt.title('Scatter Plot of Store Location vs Total Sales')\n",
        "plt.show"
      ],
      "metadata": {
        "colab": {
          "base_uri": "https://localhost:8080/",
          "height": 661
        },
        "id": "7RKJONYbgWUu",
        "outputId": "2dd4f3ee-6e00-4996-e61c-486850ced011"
      },
      "execution_count": 74,
      "outputs": [
        {
          "output_type": "execute_result",
          "data": {
            "text/plain": [
              "<function matplotlib.pyplot.show(close=None, block=None)>"
            ],
            "text/html": [
              "<div style=\"max-width:800px; border: 1px solid var(--colab-border-color);\"><style>\n",
              "      pre.function-repr-contents {\n",
              "        overflow-x: auto;\n",
              "        padding: 8px 12px;\n",
              "        max-height: 500px;\n",
              "      }\n",
              "\n",
              "      pre.function-repr-contents.function-repr-contents-collapsed {\n",
              "        cursor: pointer;\n",
              "        max-height: 100px;\n",
              "      }\n",
              "    </style>\n",
              "    <pre style=\"white-space: initial; background:\n",
              "         var(--colab-secondary-surface-color); padding: 8px 12px;\n",
              "         border-bottom: 1px solid var(--colab-border-color);\"><b>matplotlib.pyplot.show</b><br/>def show(*args, **kwargs)</pre><pre class=\"function-repr-contents function-repr-contents-collapsed\" style=\"\"><a class=\"filepath\" style=\"display:none\" href=\"#\">/usr/local/lib/python3.10/dist-packages/matplotlib/pyplot.py</a>Display all open figures.\n",
              "\n",
              "Parameters\n",
              "----------\n",
              "block : bool, optional\n",
              "    Whether to wait for all figures to be closed before returning.\n",
              "\n",
              "    If `True` block and run the GUI main loop until all figure windows\n",
              "    are closed.\n",
              "\n",
              "    If `False` ensure that all figure windows are displayed and return\n",
              "    immediately.  In this case, you are responsible for ensuring\n",
              "    that the event loop is running to have responsive figures.\n",
              "\n",
              "    Defaults to True in non-interactive mode and to False in interactive\n",
              "    mode (see `.pyplot.isinteractive`).\n",
              "\n",
              "See Also\n",
              "--------\n",
              "ion : Enable interactive mode, which shows / updates the figure after\n",
              "      every plotting command, so that calling ``show()`` is not necessary.\n",
              "ioff : Disable interactive mode.\n",
              "savefig : Save the figure to an image file instead of showing it on screen.\n",
              "\n",
              "Notes\n",
              "-----\n",
              "**Saving figures to file and showing a window at the same time**\n",
              "\n",
              "If you want an image file as well as a user interface window, use\n",
              "`.pyplot.savefig` before `.pyplot.show`. At the end of (a blocking)\n",
              "``show()`` the figure is closed and thus unregistered from pyplot. Calling\n",
              "`.pyplot.savefig` afterwards would save a new and thus empty figure. This\n",
              "limitation of command order does not apply if the show is non-blocking or\n",
              "if you keep a reference to the figure and use `.Figure.savefig`.\n",
              "\n",
              "**Auto-show in jupyter notebooks**\n",
              "\n",
              "The jupyter backends (activated via ``%matplotlib inline``,\n",
              "``%matplotlib notebook``, or ``%matplotlib widget``), call ``show()`` at\n",
              "the end of every cell by default. Thus, you usually don&#x27;t have to call it\n",
              "explicitly there.</pre>\n",
              "      <script>\n",
              "      if (google.colab.kernel.accessAllowed && google.colab.files && google.colab.files.view) {\n",
              "        for (const element of document.querySelectorAll('.filepath')) {\n",
              "          element.style.display = 'block'\n",
              "          element.onclick = (event) => {\n",
              "            event.preventDefault();\n",
              "            event.stopPropagation();\n",
              "            google.colab.files.view(element.textContent, 482);\n",
              "          };\n",
              "        }\n",
              "      }\n",
              "      for (const element of document.querySelectorAll('.function-repr-contents')) {\n",
              "        element.onclick = (event) => {\n",
              "          event.preventDefault();\n",
              "          event.stopPropagation();\n",
              "          element.classList.toggle('function-repr-contents-collapsed');\n",
              "        };\n",
              "      }\n",
              "      </script>\n",
              "      </div>"
            ]
          },
          "metadata": {},
          "execution_count": 74
        },
        {
          "output_type": "display_data",
          "data": {
            "text/plain": [
              "<Figure size 640x480 with 1 Axes>"
            ],
            "image/png": "[encoded data removed]"
          },
          "metadata": {}
        }
      ]
    },
    {
      "cell_type": "code",
      "source": [],
      "metadata": {
        "id": "gRK0EujDgh5W"
      },
      "execution_count": 74,
      "outputs": []
    }
  ],
  "metadata": {
    "colab": {
      "provenance": [],
      "authorship_tag": "ABX9TyMM2XKqu8TeAxV4YV1Z5+Q+",
      "include_colab_link": true
    },
    "kernelspec": {
      "display_name": "Python 3",
      "name": "python3"
    },
    "language_info": {
      "name": "python"
    }
  },
  "nbformat": 4,
  "nbformat_minor": 0
}